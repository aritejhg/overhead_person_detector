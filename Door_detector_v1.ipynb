{
  "nbformat": 4,
  "nbformat_minor": 0,
  "metadata": {
    "colab": {
      "name": "Door detector v1.ipynb",
      "provenance": [],
      "authorship_tag": "ABX9TyNJJFs3pQH506jxIP+Ym4br",
      "include_colab_link": true
    },
    "kernelspec": {
      "name": "python3",
      "display_name": "Python 3"
    },
    "language_info": {
      "name": "python"
    }
  },
  "cells": [
    {
      "cell_type": "markdown",
      "metadata": {
        "id": "view-in-github",
        "colab_type": "text"
      },
      "source": [
        "<a href=\"https://colab.research.google.com/github/aritejhg/tinyyolov4_person_detector/blob/main/Door_detector_v1.ipynb\" target=\"_parent\"><img src=\"https://colab.research.google.com/assets/colab-badge.svg\" alt=\"Open In Colab\"/></a>"
      ]
    },
    {
      "cell_type": "markdown",
      "source": [
        "#collins people at door detector\n",
        "\n",
        "Objectives:\n",
        "1. Convert Sunmi and Top View Multiple Person dataset to YOLO format\n",
        "2. Implement histogram equalisation\n",
        "3. Get baseline from KDE background subtraction + Historgram\n",
        "4. Train TinyYOLOv4 model and check performance. Implement with DIoU + Multi-Scale\n",
        "\n",
        "Result required: Just a indication if people are present in the area. To be passed to other code for talking to MiR\n",
        "\n"
      ],
      "metadata": {
        "id": "ryFqzah2eiye"
      }
    },
    {
      "cell_type": "markdown",
      "source": [
        "References:\n",
        "1. [Training tinyYOLOv4](https://colab.research.google.com/drive/1hQO4nOoD6RDxdbz3C1YSiifTsyZjZpYm?usp=sharing)\n",
        "2. [Top View Multi Person labelled images zip](https://drive.google.com/drive/folders/1dc1QrDvZPWXbUfzEQE5EPIAz2CPCVI38)\n",
        "3. [Sunmi dataset](https://github.com/Sunmi-AI-Lab/head-detection-and-tracking/tree/master/datasets) \n",
        "4. [DIoU](https://arxiv.org/abs/1911.08287)\n",
        "5. [Multi-Scale tinyYOLOv4 Research paper](https://link.springer.com/chapter/10.1007/978-3-030-85383-9_1)"
      ],
      "metadata": {
        "id": "D-e2kDHPgXt1"
      }
    },
    {
      "cell_type": "code",
      "source": [
        "from google.colab import drive\n",
        "drive.mount('/content/drive')"
      ],
      "metadata": {
        "colab": {
          "base_uri": "https://localhost:8080/"
        },
        "id": "8acIUT6rgvjv",
        "outputId": "c850b8e2-d167-4a07-f0c3-3dfe58031009"
      },
      "execution_count": 1,
      "outputs": [
        {
          "output_type": "stream",
          "name": "stdout",
          "text": [
            "Mounted at /content/drive\n"
          ]
        }
      ]
    },
    {
      "cell_type": "code",
      "source": [
        "!rm -r /content/__MACOSX/\n"
      ],
      "metadata": {
        "id": "9dqjHBIGu4Ji"
      },
      "execution_count": 14,
      "outputs": []
    },
    {
      "cell_type": "markdown",
      "source": [
        "# Download datasets"
      ],
      "metadata": {
        "id": "5okoL7aCktwx"
      }
    },
    {
      "cell_type": "markdown",
      "source": [
        "##Sunmi dataset"
      ],
      "metadata": {
        "id": "O6QqCM1rkyck"
      }
    },
    {
      "cell_type": "code",
      "source": [
        "!apt install subversion"
      ],
      "metadata": {
        "id": "_dSJbGfegXfn"
      },
      "execution_count": null,
      "outputs": []
    },
    {
      "cell_type": "code",
      "execution_count": null,
      "metadata": {
        "id": "YY8VHWHFbb7m"
      },
      "outputs": [],
      "source": [
        "!svn checkout https://github.com/Sunmi-AI-Lab/head-detection-and-tracking/trunk/datasets/in-office /content/Sunmi/\n"
      ]
    },
    {
      "cell_type": "markdown",
      "source": [
        "## Top View \n"
      ],
      "metadata": {
        "id": "19qO_lftlfy8"
      }
    },
    {
      "cell_type": "code",
      "source": [
        "!pip install gdown"
      ],
      "metadata": {
        "id": "DaligHHGlsX8"
      },
      "execution_count": null,
      "outputs": []
    },
    {
      "cell_type": "code",
      "source": [
        "import os\n",
        "os.makedirs(\"/content/TVMP\")"
      ],
      "metadata": {
        "id": "LsZ0BF-unG-5"
      },
      "execution_count": 6,
      "outputs": []
    },
    {
      "cell_type": "code",
      "source": [
        "import gdown\n",
        "#https://drive.google.com/drive/folders/1dc1QrDvZPWXbUfzEQE5EPIAz2CPCVI38?usp=sharing\n",
        "!gdown --folder https://drive.google.com/drive/folders/1dc1QrDvZPWXbUfzEQE5EPIAz2CPCVI38?usp=sharing /content/TVMP/"
      ],
      "metadata": {
        "id": "uBArrG_JlsOX"
      },
      "execution_count": null,
      "outputs": []
    },
    {
      "cell_type": "code",
      "source": [
        "!unzip /content/TVMP/labeled_images/test.zip"
      ],
      "metadata": {
        "id": "SRr5BZYEqbqi"
      },
      "execution_count": null,
      "outputs": []
    },
    {
      "cell_type": "code",
      "source": [
        "!unzip /content/TVMP/labeled_images/train.zip "
      ],
      "metadata": {
        "id": "Lb2gXkU8qpZQ"
      },
      "execution_count": null,
      "outputs": []
    }
  ]
}