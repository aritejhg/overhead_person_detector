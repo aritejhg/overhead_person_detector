{
  "nbformat": 4,
  "nbformat_minor": 0,
  "metadata": {
    "colab": {
      "name": "Door detector v1.ipynb",
      "provenance": [],
      "authorship_tag": "ABX9TyO4eqW84+mWpjsLCnCRnD7c",
      "include_colab_link": true
    },
    "kernelspec": {
      "name": "python3",
      "display_name": "Python 3"
    },
    "language_info": {
      "name": "python"
    }
  },
  "cells": [
    {
      "cell_type": "markdown",
      "metadata": {
        "id": "view-in-github",
        "colab_type": "text"
      },
      "source": [
        "<a href=\"https://colab.research.google.com/github/aritejhg/tinyyolov4_person_detector/blob/main/Door_detector_v1.ipynb\" target=\"_parent\"><img src=\"https://colab.research.google.com/assets/colab-badge.svg\" alt=\"Open In Colab\"/></a>"
      ]
    },
    {
      "cell_type": "markdown",
      "source": [
        "#collins people at door detector\n",
        "\n",
        "Objectives:\n",
        "1. Convert Sunmi and Top View Multiple Person dataset to YOLO format\n",
        "2. Implement histogram equalisation\n",
        "3. Get baseline from KDE background subtraction + Historgram\n",
        "4. Train TinyYOLOv4 model and check performance\n",
        "\n",
        "Result required: Just a indication if people are present in the area. To be passed to other code for talking to MiR\n",
        "\n"
      ],
      "metadata": {
        "id": "ryFqzah2eiye"
      }
    },
    {
      "cell_type": "code",
      "execution_count": null,
      "metadata": {
        "id": "YY8VHWHFbb7m"
      },
      "outputs": [],
      "source": [
        ""
      ]
    }
  ]
}